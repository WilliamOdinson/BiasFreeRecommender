{
    "cells": [
        {
            "cell_type": "markdown",
            "metadata": {},
            "source": [
                "# 从评论文本预测Yelp评分"
            ]
        },
        {
            "cell_type": "code",
            "execution_count": 1,
            "metadata": {
                "colab": {},
                "colab_type": "code",
                "id": "hinonm4y3-5Y"
            },
            "outputs": [],
            "source": [
                "import pandas as pd\n",
                "import numpy as np\n",
                "import json\n",
                "import sys\n",
                "sys.path.append('..')"
            ]
        },
        {
            "cell_type": "code",
            "execution_count": 2,
            "metadata": {},
            "outputs": [],
            "source": [
                "from src import *\n",
                "\n",
                "business_df = pd.read_json('../data/Yelp Dataset/yelp_academic_dataset_business.json', lines=True)\n",
                "review_df = pd.read_json('../data/Yelp Dataset/yelp_academic_dataset_review.json', lines=True)"
            ]
        },
        {
            "cell_type": "code",
            "execution_count": null,
            "metadata": {},
            "outputs": [],
            "source": [
                "import matplotlib.pyplot as plt\n",
                "from matplotlib.font_manager import FontProperties\n",
                "PingFang = FontProperties(fname='../assets/PingFang.ttc')\n",
                "plt.style.use('ggplot')"
            ]
        },
        {
            "cell_type": "code",
            "execution_count": null,
            "metadata": {},
            "outputs": [],
            "source": [
                "color_code = '#E5E5E5'\n",
                "palette_key = 'Twisted Spot Palette'\n",
                "\n",
                "try:\n",
                "    with open('../assets/Palette.json', 'r') as file:\n",
                "        data = json.load(file)\n",
                "    if color_code in data:\n",
                "        main_color = data[color_code].get(palette_key, [])\n",
                "        print(\"主色调：\", main_color)\n",
                "except FileNotFoundError:\n",
                "    ImportError(\"JSON文件格式不正确。\")\n",
                "except json.JSONDecodeError:\n",
                "    ImportError(\"JSON文件格式不正确。\")"
            ]
        },
        {
            "cell_type": "code",
            "execution_count": null,
            "metadata": {},
            "outputs": [],
            "source": [
                "# 筛选出所有属于\"Restaurant\"类别的商家\n",
                "restaurants = business_df[business_df['categories'].str.contains(\n",
                "    'Restaurant') == True]\n",
                "\n",
                "# 筛选出那些其 business_id 存在于上面筛选出的商家ID列表中的评论\n",
                "restaurant_reviews = review_df[review_df.business_id.isin(\n",
                "    restaurants['business_id']) == True]\n",
                "\n",
                "print(f\"restaurant_reviews 数据框的维度：{restaurant_reviews.shape}\")"
            ]
        },
        {
            "cell_type": "markdown",
            "metadata": {},
            "source": [
                "## 第一部分：采用朴素贝叶斯方法来进行预测"
            ]
        },
        {
            "cell_type": "code",
            "execution_count": 6,
            "metadata": {},
            "outputs": [],
            "source": [
                "from sklearn.pipeline import Pipeline, make_pipeline\n",
                "from sklearn.feature_extraction.text import TfidfVectorizer\n",
                "from sklearn.linear_model import LogisticRegression\n",
                "from sklearn.model_selection import cross_val_score\n",
                "from sklearn import metrics\n",
                "from sklearn.metrics import roc_auc_score"
            ]
        },
        {
            "cell_type": "code",
            "execution_count": 10,
            "metadata": {},
            "outputs": [
                {
                    "name": "stdout",
                    "output_type": "stream",
                    "text": [
                        "训练数据集维度： (3307278, 9)\n",
                        "测试数据集维度： (1417406, 9)\n"
                    ]
                }
            ],
            "source": [
                "# 计算训练集大小，取整个数据集的70%\n",
                "train_size = int(len(restaurant_reviews) * 0.7)\n",
                "\n",
                "# 将前70%的数据分配给训练集\n",
                "train = restaurant_reviews[:train_size]\n",
                "\n",
                "# 将剩余的30%的数据分配给测试集\n",
                "test = restaurant_reviews[train_size:]\n",
                "\n",
                "print(f\"训练数据集维度： {train.shape}\")\n",
                "print(f\"测试数据集维度： {test.shape}\")"
            ]
        },
        {
            "cell_type": "code",
            "execution_count": 13,
            "metadata": {},
            "outputs": [
                {
                    "data": {
                        "image/png": "[encoded data removed]",
                        "text/plain": [
                            "<Figure size 432x288 with 1 Axes>"
                        ]
                    },
                    "metadata": {
                        "needs_background": "light"
                    },
                    "output_type": "display_data"
                }
            ],
            "source": [
                "# 筛选出需要的列\n",
                "train = train[['text', 'stars']]\n",
                "\n",
                "train_counts, train_bins, train_patches = plt.hist(\n",
                "    train['stars'], bins=5, color=main_color[0], edgecolor='black')\n",
                "\n",
                "# 在柱子上方添加数值标签\n",
                "for count, patch in zip(train_counts, train_patches):\n",
                "    x = patch.get_x() + patch.get_width() / 2\n",
                "    y = patch.get_height()\n",
                "    plt.text(x, y, str(int(count)), ha='center',\n",
                "             va='bottom', fontproperties=PingFang)\n",
                "\n",
                "# 添加图形标题和坐标轴标签\n",
                "plt.title('评论星级分布', fontproperties=PingFang)\n",
                "plt.xlabel('星级', fontproperties=PingFang)\n",
                "plt.ylabel('频数', fontproperties=PingFang)\n",
                "\n",
                "plt.tight_layout()\n",
                "plt.savefig('../images/05_评论星级分布.png', dpi=600)\n",
                "plt.show()"
            ]
        },
        {
            "cell_type": "markdown",
            "metadata": {},
            "source": [
                "将 `stars` 列独热编码，为列中的每个唯一值创建一个新的列，如果该行在原始列中对应的值为该值，则新列为1，否则为0"
            ]
        },
        {
            "cell_type": "code",
            "execution_count": null,
            "metadata": {},
            "outputs": [],
            "source": [
                "train = pd.get_dummies(train, columns=['stars'])\n",
                "train.head()"
            ]
        },
        {
            "cell_type": "code",
            "execution_count": 15,
            "metadata": {},
            "outputs": [
                {
                    "data": {
                        "image/png": "[encoded data removed]",
                        "text/plain": [
                            "<Figure size 432x288 with 1 Axes>"
                        ]
                    },
                    "metadata": {
                        "needs_background": "light"
                    },
                    "output_type": "display_data"
                }
            ],
            "source": [
                "test_counts, test_bins, test_patches = plt.hist(\n",
                "    test['stars'], bins=5, color=main_color[0], edgecolor='black')\n",
                "\n",
                "# 在柱子上方添加数值标签\n",
                "for count, patch in zip(test_counts, test_patches):\n",
                "    x = patch.get_x() + patch.get_width() / 2\n",
                "    y = patch.get_height()\n",
                "    plt.text(x, y, str(int(count)), ha='center',\n",
                "             va='bottom', fontproperties=PingFang)\n",
                "\n",
                "# 添加图形标题和坐标轴标签\n",
                "plt.title('评论星级分布', fontproperties=PingFang)\n",
                "plt.xlabel('星级', fontproperties=PingFang)\n",
                "plt.ylabel('频数', fontproperties=PingFang)\n",
                "\n",
                "plt.tight_layout()\n",
                "plt.savefig('../images/05_测试集评论星级分布.png', dpi=600)\n",
                "plt.show()"
            ]
        },
        {
            "cell_type": "code",
            "execution_count": null,
            "metadata": {},
            "outputs": [],
            "source": [
                "# 筛选出需要的列\n",
                "test = test[['text', 'stars']]\n",
                "test = pd.get_dummies(test, columns=['stars'])"
            ]
        },
        {
            "cell_type": "code",
            "execution_count": 12,
            "metadata": {},
            "outputs": [
                {
                    "name": "stdout",
                    "output_type": "stream",
                    "text": [
                        "现在训练数据集维度： (3307278, 13)\n",
                        "现在测试数据集维度： (1417406, 13)\n"
                    ]
                }
            ],
            "source": [
                "print(f\"现在训练数据集维度： {train.shape}\")\n",
                "print(f\"现在测试数据集维度： {test.shape}\")"
            ]
        },
        {
            "cell_type": "markdown",
            "metadata": {},
            "source": [
                "我们使用朴素贝叶斯线性分类器和`TfidfVectorizer`，将评论文本转换为`TF-IDF`加权的词向量，为NLP问题建立一个基线模型。\n",
                "\n",
                "> 通过比较词在不同星级评论中的出现频率，计算条件概率，从而预测评论的星级。"
            ]
        },
        {
            "cell_type": "code",
            "execution_count": 17,
            "metadata": {},
            "outputs": [],
            "source": [
                "# 设置TfidfVectorizer，限制最多使用2000个最重要的特征（单词），以构建词向量模型。\n",
                "max_features = 2000\n",
                "tfidf = TfidfVectorizer(max_features = max_features)"
            ]
        },
        {
            "cell_type": "markdown",
            "metadata": {},
            "source": [
                "应用朴素贝叶斯模型，计算给定词汇（如\"这\", \"餐厅\", \"很\", \"糟糕\"）在不同星级评论下的条件概率，并通过拉普拉斯平滑处理未见过的单词。\n",
                "\n",
                "> 使用得到的朴素贝叶斯概率作为特征，结合逻辑回归模型来预测评论的星级，从而提高模型的预测精度和解释性。"
            ]
        },
        {
            "cell_type": "code",
            "execution_count": 18,
            "metadata": {},
            "outputs": [],
            "source": [
                "# 使用sklearn pipeline创建管道：\n",
                "# 首先使用TfidfVectorizer（tfidf）将文本转换为TF-IDF特征。\n",
                "# 然后，利用朴素贝叶斯特征转换器（NBFeatures）计算概率特征。\n",
                "# 最后，将这些特征用于逻辑回归模型（LogisticRegression）进行最终的分类。\n",
                "\n",
                "lr = LogisticRegression(max_iter=1000) # 初始化逻辑回归模型\n",
                "nb = NBFeatures(1)  # 初始化朴素贝叶斯特征转换器，参数1可能表示使用拉普拉斯平滑\n",
                "pl = Pipeline([\n",
                "    ('tfidf', tfidf),  # 第一步：TF-IDF向量化\n",
                "    ('nb', nb),        # 第二步：计算朴素贝叶斯概率特征\n",
                "    ('lr', lr)         # 第三步：逻辑回归分类\n",
                "])"
            ]
        },
        {
            "cell_type": "markdown",
            "metadata": {},
            "source": [
                "由于原始星级评分包含多个类别（1星到5星），以下代码将这些评分转换成多个二分类问题，也就是对每个类别（星级），分别预测评论属于该星级的概率。"
            ]
        },
        {
            "cell_type": "code",
            "execution_count": 19,
            "metadata": {},
            "outputs": [
                {
                    "name": "stdout",
                    "output_type": "stream",
                    "text": [
                        "类别的CV评分 stars_1 是 0.9385818186436096\n",
                        "类别的CV评分 stars_2 是 0.9127007164199683\n",
                        "类别的CV评分 stars_3 是 0.8885566922405675\n",
                        "类别的CV评分 stars_4 是 0.7751422771233626\n",
                        "类别的CV评分 stars_5 是 0.8210960796159258\n"
                    ]
                }
            ],
            "source": [
                "class_names = ['stars_1', 'stars_2', 'stars_3', 'stars_4', 'stars_5']\n",
                "scores = []  # 存储每个类别的交叉验证分数\n",
                "preds = np.zeros((len(test), len(class_names)))  # 初始化一个用于存储预济结果的数组\n",
                "\n",
                "# 遍历每个星级类别，对每个类别进行模型训练和预测\n",
                "for _, class_name in enumerate(class_names):\n",
                "    train_target = train[class_name]  # 获取当前星级类别的目标值\n",
                "\n",
                "    # 计算当前类别的交叉验证分数\n",
                "    cv_score = np.mean(cross_val_score(estimator=pl,\n",
                "                                       X=train['text'].values,\n",
                "                                       y=train_target,\n",
                "                                       cv=3,\n",
                "                                       scoring='accuracy'))\n",
                "\n",
                "    scores.append(cv_score)  # 添加当前星级的分数到列表\n",
                "\n",
                "    print('类别的CV评分 {} 是 {}'.format(class_name, cv_score))  # 打印当前星级的交叉验证分数\n",
                "\n",
                "    pl.fit(train['text'].values, train_target)  # 使用当前类别的数据训练模型\n",
                "    preds[:, _] = pl.predict_proba(test['text'].values)[\n",
                "        :, 1]  # 对测试集进行概率预测并存储结果"
            ]
        },
        {
            "cell_type": "markdown",
            "metadata": {},
            "source": [
                "我们使用 sklearn 的 classification_report 生成分类模型的性能报告<br>\n",
                "\n",
                "`y_true`: 真实的标签，通过从 test_sample 数据集的 class_names 列中取最大值的索引获得<br>\n",
                "\n",
                "`y_pred`: 预测的标签，通过从预测结果 preds 中取最大值的索引获得"
            ]
        },
        {
            "cell_type": "code",
            "execution_count": 20,
            "metadata": {},
            "outputs": [
                {
                    "name": "stdout",
                    "output_type": "stream",
                    "text": [
                        "              precision    recall  f1-score   support\n",
                        "\n",
                        "           0       0.69      0.82      0.75    168963\n",
                        "           1       0.50      0.26      0.34    120760\n",
                        "           2       0.52      0.34      0.41    162778\n",
                        "           3       0.53      0.45      0.48    336022\n",
                        "           4       0.74      0.89      0.81    628883\n",
                        "\n",
                        "    accuracy                           0.66   1417406\n",
                        "   macro avg       0.59      0.55      0.56   1417406\n",
                        "weighted avg       0.64      0.66      0.64   1417406\n",
                        "\n"
                    ]
                }
            ],
            "source": [
                "NBF_report = metrics.classification_report(\n",
                "    y_true=np.argmax(test[class_names].values, axis=1),\n",
                "    y_pred=np.argmax(preds, axis=1))\n",
                "print(NBF_report)"
            ]
        },
        {
            "cell_type": "markdown",
            "metadata": {},
            "source": [
                "## 第二部分：基于GloVe词嵌入的神经网络模型"
            ]
        },
        {
            "cell_type": "markdown",
            "metadata": {},
            "source": [
                "本部分将使用基于GloVe嵌入作为词向量，使用Keras框架来构建和训练一个神经网络模型，以提升对评论文本的分类精度和解释能力。"
            ]
        },
        {
            "cell_type": "code",
            "execution_count": 13,
            "metadata": {},
            "outputs": [
                {
                    "name": "stderr",
                    "output_type": "stream",
                    "text": [
                        "2024-06-05 09:35:26.347038: I tensorflow/core/util/util.cc:169] oneDNN custom operations are on. You may see slightly different numerical results due to floating-point round-off errors from different computation orders. To turn them off, set the environment variable `TF_ENABLE_ONEDNN_OPTS=0`.\n"
                    ]
                }
            ],
            "source": [
                "from keras.preprocessing.text import Tokenizer\n",
                "from tensorflow.keras.preprocessing.sequence import pad_sequences\n",
                "from keras.layers import Dense, Input, LSTM, Embedding, Dropout, Activation, SpatialDropout1D, GRU\n",
                "from keras.layers import Bidirectional, GlobalAveragePooling1D, GlobalMaxPooling1D, concatenate\n",
                "from keras.models import Model\n",
                "from keras.utils import to_categorical\n",
                "from keras.callbacks import EarlyStopping, ModelCheckpoint"
            ]
        },
        {
            "cell_type": "code",
            "execution_count": 14,
            "metadata": {},
            "outputs": [
                {
                    "name": "stdout",
                    "output_type": "stream",
                    "text": [
                        "最小文本长度： 1\n",
                        "最大文本长度： 5000\n",
                        "文本平均长度： 567.7644364746477\n",
                        "文本中位数长度： 406.0\n",
                        "文本长度的标准差： 527.257808524903\n"
                    ]
                }
            ],
            "source": [
                "lengths = review_df['text'].str.len()\n",
                "\n",
                "# 计算并打印关键统计量\n",
                "print(\"最小文本长度：\", lengths.min())\n",
                "print(\"最大文本长度：\", lengths.max())\n",
                "print(\"文本平均长度：\", lengths.mean())\n",
                "print(\"文本中位数长度：\", lengths.median())\n",
                "print(\"文本长度的标准差：\", lengths.std())"
            ]
        },
        {
            "cell_type": "code",
            "execution_count": 15,
            "metadata": {},
            "outputs": [],
            "source": [
                "# 设置词嵌入的维度为300，每个词将被表示为一个300维的向量\n",
                "embed_size = 300\n",
                "# 设置最大特征数（词汇表大小）为50,000，在模型中最多使用50,000个不同的词\n",
                "max_features = 50000\n",
                "# 设置最大序列长度为600，每条评论最多使用600个词\n",
                "maxlen = 600\n",
                "\n",
                "embedding_file = '../GloVe/Common Crawl/glove.840B.300d.txt'\n",
                "\n",
                "embeddings_index = {}\n",
                "\n",
                "with open(embedding_file, 'r', encoding='utf-8') as f:\n",
                "    for line in f:\n",
                "        values = line.strip().split()\n",
                "        word = values[0]\n",
                "        try:\n",
                "            coefs = np.asarray(values[1:], dtype='float32')\n",
                "            embeddings_index[word] = coefs\n",
                "        except ValueError as e:\n",
                "            # print(f\"跳过行：{line}\")\n",
                "            continue"
            ]
        },
        {
            "cell_type": "code",
            "execution_count": 16,
            "metadata": {},
            "outputs": [
                {
                    "name": "stdout",
                    "output_type": "stream",
                    "text": [
                        "2195884\n"
                    ]
                }
            ],
            "source": [
                "print(len(embeddings_index))"
            ]
        },
        {
            "cell_type": "code",
            "execution_count": 17,
            "metadata": {},
            "outputs": [],
            "source": [
                "# 定义目标类别的列名，这里包含从1星到5星的评价\n",
                "class_names = ['stars_1', 'stars_2', 'stars_3', 'stars_4', 'stars_5']\n",
                "\n",
                "# 从train数据集中提取这些列的值，作为模型的目标变量y\n",
                "y = train[class_names].values"
            ]
        },
        {
            "cell_type": "markdown",
            "metadata": {},
            "source": [
                "使用Keras的`pad_sequences`方法对分词后的文本数据进行填充处理，以确保所有向量具有统一的长度，满足神经网络模型的输入要求。"
            ]
        },
        {
            "cell_type": "code",
            "execution_count": 19,
            "metadata": {},
            "outputs": [],
            "source": [
                "# 初始化一个Tokenizer对象，设置最大词汇量为之前定义的max_features\n",
                "tokenizer = Tokenizer(num_words=max_features)\n",
                "\n",
                "# 用train数据集的文本列来训练tokenizer，构建词汇索引\n",
                "tokenizer.fit_on_texts(list(train['text'].values))\n",
                "\n",
                "# 将训练和测试集的文本转换为整数序列，根据每个词在tokenizer词汇表中的索引\n",
                "X_train = tokenizer.texts_to_sequences(train['text'].values)\n",
                "X_test = tokenizer.texts_to_sequences(test['text'].values)\n",
                "\n",
                "# 使用pad_sequences方法将训练集和测试集的序列填充到相同的最大长度\n",
                "# 不足的部分使用默认值填充（默认为0）\n",
                "x_train = pad_sequences(X_train, maxlen=maxlen)\n",
                "x_test = pad_sequences(X_test, maxlen=maxlen)"
            ]
        },
        {
            "cell_type": "markdown",
            "metadata": {},
            "source": [
                "初始化词嵌入，将不在预训练嵌入中的词设置为零向量，并允许在模型训练过程中调整这些嵌入。\n",
                "\n",
                "使用预训练的推特嵌入作为起点，优化模型以适应具体的应用场景和数据集。"
            ]
        },
        {
            "cell_type": "code",
            "execution_count": 20,
            "metadata": {},
            "outputs": [],
            "source": [
                "# 获取Tokenizer的词索引字典\n",
                "word_index = tokenizer.word_index\n",
                "\n",
                "# 确定嵌入矩阵的大小：取最大特征数和词索引长度的较小值\n",
                "nb_words = min(max_features, len(word_index))\n",
                "\n",
                "# 创建一个全零矩阵，其形状为(nb_words, embed_size)，用于存储词向量\n",
                "embedding_matrix = np.zeros((nb_words, embed_size))\n",
                "\n",
                "missed = []\n",
                "\n",
                "for word, _ in word_index.items():\n",
                "    # 只处理索引小于max_features的词，以保持embedding_matrix大小合适\n",
                "    if _ >= max_features: break\n",
                "    # 从预训练的词向量中获取当前词的向量\n",
                "    embedding_vector = embeddings_index.get(word)\n",
                "    # 如果找到了词向量，将其添加到embedding_matrix中对应的位置\n",
                "    if embedding_vector is not None:\n",
                "        embedding_matrix[_] = embedding_vector\n",
                "    else:\n",
                "        # 如果未找到词向量，将该词记录到missed列表中\n",
                "        missed.append(word)"
            ]
        },
        {
            "cell_type": "code",
            "execution_count": 21,
            "metadata": {},
            "outputs": [
                {
                    "data": {
                        "text/plain": [
                            "[\"i've\",\n",
                            " \"i'm\",\n",
                            " \"wasn't\",\n",
                            " \"i'll\",\n",
                            " \"i'd\",\n",
                            " \"won't\",\n",
                            " \"couldn't\",\n",
                            " \"there's\",\n",
                            " \"isn't\",\n",
                            " \"they're\",\n",
                            " \"wouldn't\",\n",
                            " \"haven't\",\n",
                            " \"weren't\",\n",
                            " \"we've\",\n",
                            " \"we're\",\n",
                            " \"aren't\",\n",
                            " \"we'll\",\n",
                            " 'covid',\n",
                            " \"let's\",\n",
                            " \"you've\",\n",
                            " \"they've\",\n",
                            " \"hadn't\",\n",
                            " \"you'd\",\n",
                            " \"what's\",\n",
                            " \"we'd\",\n",
                            " \"he's\",\n",
                            " \"would've\",\n",
                            " \"shouldn't\",\n",
                            " \"she's\",\n",
                            " \"friend's\",\n",
                            " \"here's\",\n",
                            " \"they'll\",\n",
                            " \"wife's\",\n",
                            " \"could've\",\n",
                            " \"mcdonald's\",\n",
                            " \"husband's\",\n",
                            " \"they'd\",\n",
                            " \"hasn't\",\n",
                            " \"mother's\",\n",
                            " \"chef's\",\n",
                            " \"tv's\",\n",
                            " \"y'all\",\n",
                            " \"it'll\",\n",
                            " \"everyone's\",\n",
                            " \"should've\",\n",
                            " \"b's\",\n",
                            " \"pat's\",\n",
                            " \"valentine's\",\n",
                            " \"geno's\",\n",
                            " \"mary's\",\n",
                            " \"who's\",\n",
                            " 'grubhub',\n",
                            " \"john's\",\n",
                            " \"joe's\",\n",
                            " \"ain't\",\n",
                            " \"mom's\",\n",
                            " \"tso's\",\n",
                            " \"restaurant's\",\n",
                            " \"someone's\",\n",
                            " \"wendy's\",\n",
                            " \"po'boy\",\n",
                            " \"he'd\",\n",
                            " \"else's\",\n",
                            " \"chili's\",\n",
                            " \"daughter's\",\n",
                            " \"son's\",\n",
                            " \"jim's\",\n",
                            " \"it'd\",\n",
                            " \"she'd\",\n",
                            " \"denny's\",\n",
                            " \"applebee's\",\n",
                            " '\\xa0',\n",
                            " \"today's\",\n",
                            " \"n'\",\n",
                            " \"year's\",\n",
                            " \"po'\",\n",
                            " \"boyfriend's\",\n",
                            " 'doordash',\n",
                            " \"server's\",\n",
                            " \"luke's\",\n",
                            " \"people's\",\n",
                            " \"father's\",\n",
                            " \"money's\",\n",
                            " \"kid's\",\n",
                            " \"commander's\",\n",
                            " \"family's\",\n",
                            " \"owner's\",\n",
                            " \"mama's\",\n",
                            " \"men's\",\n",
                            " \"pete's\",\n",
                            " \"jack's\",\n",
                            " \"sabrina's\",\n",
                            " \"mike's\",\n",
                            " \"pizza's\",\n",
                            " \"imo's\",\n",
                            " \"farmer's\",\n",
                            " '\\u200d',\n",
                            " \"children's\",\n",
                            " \"one's\",\n",
                            " \"felix's\",\n",
                            " \"tony's\",\n",
                            " \"sam's\",\n",
                            " \"women's\",\n",
                            " \"domino's\",\n",
                            " \"80's\",\n",
                            " \"sister's\",\n",
                            " \"dad's\",\n",
                            " \"grandma's\",\n",
                            " \"where's\",\n",
                            " 'ubereats']"
                        ]
                    },
                    "execution_count": 21,
                    "metadata": {},
                    "output_type": "execute_result"
                }
            ],
            "source": [
                "len(missed)\n",
                "missed[:110]"
            ]
        },
        {
            "cell_type": "markdown",
            "metadata": {},
            "source": [
                "对missed进行分析，可以看到有很多带有`'`的词没有被识别出，这可能导致最后模型理解意思相反的问题，但是由于模型判断前600个词，影响应该不会很大。\n",
                "\n",
                "设置使用预训练的 GloVe 嵌入，并将 `trainable` 设置为 `true`，以允许对嵌入进行微调，有助于提高模型对特定数据集的适应性和准确性。"
            ]
        },
        {
            "cell_type": "code",
            "execution_count": 22,
            "metadata": {},
            "outputs": [
                {
                    "name": "stderr",
                    "output_type": "stream",
                    "text": [
                        "2024-06-05 09:57:05.325058: I tensorflow/core/platform/cpu_feature_guard.cc:193] This TensorFlow binary is optimized with oneAPI Deep Neural Network Library (oneDNN) to use the following CPU instructions in performance-critical operations:  AVX2 AVX512F AVX512_VNNI AVX512_BF16 AVX_VNNI AMX_TILE AMX_INT8 AMX_BF16 FMA\n",
                        "To enable them in other operations, rebuild TensorFlow with the appropriate compiler flags.\n",
                        "2024-06-05 09:57:05.933999: I tensorflow/core/common_runtime/gpu/gpu_device.cc:1532] Created device /job:localhost/replica:0/task:0/device:GPU:0 with 22136 MB memory:  -> device: 0, name: NVIDIA GeForce RTX 4090, pci bus id: 0000:5a:00.0, compute capability: 8.9\n"
                    ]
                }
            ],
            "source": [
                "# 定义模型的输入层，形状为 (maxlen,)，代表每个输入样本的长度\n",
                "inp = Input(shape=(maxlen,))\n",
                "\n",
                "# 创建嵌入层，使用预先加载的词嵌入矩阵，并设置为可训练\n",
                "x = Embedding(max_features, embed_size, weights=[\n",
                "              embedding_matrix], trainable=True)(inp)\n",
                "\n",
                "# 添加空间丢弃层，以减少模型对特定样本位置的过拟合\n",
                "x = SpatialDropout1D(0.5)(x)\n",
                "\n",
                "# 使用双向LSTM层处理时间序列数据\n",
                "x = Bidirectional(layer=LSTM(units=40, return_sequences=True))(x)\n",
                "\n",
                "# 在双向LSTM之后，再添加一个双向GRU层，以增强模型的学习能力\n",
                "x = Bidirectional(layer=GRU(units=40, return_sequences=True))(x)\n",
                "\n",
                "# 使用全局平均池化和全局最大池化层来提取特征\n",
                "avg_pool = GlobalAveragePooling1D()(x)\n",
                "max_pool = GlobalMaxPooling1D()(x)\n",
                "\n",
                "# 将平均池化和最大池化的结果合并，用于捕获不同的特征表示\n",
                "conc = concatenate([avg_pool, max_pool])\n",
                "\n",
                "# 输出层，使用sigmoid激活函数，输出5个单位\n",
                "outp = Dense(units=5, activation='sigmoid')(conc)\n",
                "# 定义模型，输入为inp，输出为outp\n",
                "yelp_review_model = Model(inputs=inp, outputs=outp)\n",
                "# 定义早停回调函数，当验证损失不再改善时提前终止训练\n",
                "earlystop = EarlyStopping(monitor='val_loss', min_delta=0, patience=3)\n",
                "\n",
                "# 检查点回调函数，保存验证损失最好的模型\n",
                "checkpoint = ModelCheckpoint(\n",
                "    monitor='val_loss',\n",
                "    save_best_only=True,\n",
                "    filepath='../models/weights/yelp_lstm_gru_weights_300.hdf5')\n",
                "\n",
                "# 编译模型，使用二元交叉熵损失函数和Adam优化器，同时监控准确率\n",
                "yelp_review_model.compile(loss='binary_crossentropy',\n",
                "              optimizer='adam',\n",
                "              metrics=['accuracy'])"
            ]
        },
        {
            "cell_type": "code",
            "execution_count": null,
            "metadata": {},
            "outputs": [
                {
                    "name": "stdout",
                    "output_type": "stream",
                    "text": [
                        "Epoch 1/50\n"
                    ]
                },
                {
                    "name": "stderr",
                    "output_type": "stream",
                    "text": [
                        "2024-06-05 09:57:19.107023: I tensorflow/stream_executor/cuda/cuda_dnn.cc:384] Loaded cuDNN version 8101\n",
                        "2024-06-05 09:57:20.018053: I tensorflow/stream_executor/cuda/cuda_blas.cc:1786] TensorFloat-32 will be used for the matrix multiplication. This will only be logged once.\n"
                    ]
                },
                {
                    "name": "stdout",
                    "output_type": "stream",
                    "text": [
                        "5168/5168 [==============================] - 590s 113ms/step - loss: 0.2608 - accuracy: 0.6861 - val_loss: 0.2303 - val_accuracy: 0.7288\n",
                        "Epoch 2/50\n",
                        "5168/5168 [==============================] - 579s 112ms/step - loss: 0.2359 - accuracy: 0.7200 - val_loss: 0.2243 - val_accuracy: 0.7370\n",
                        "Epoch 3/50\n",
                        "5168/5168 [==============================] - 578s 112ms/step - loss: 0.2294 - accuracy: 0.7293 - val_loss: 0.2219 - val_accuracy: 0.7402\n",
                        "Epoch 4/50\n",
                        "3302/5168 [==================>...........] - ETA: 3:11 - loss: 0.2252 - accuracy: 0.7354"
                    ]
                }
            ],
            "source": [
                "yelp_review_model.fit(\n",
                "    x_train,  \t\t\t\t\t\t   # 训练数据集的输入\n",
                "    y,        \t\t\t\t\t   \t   # 训练数据集的标签\n",
                "    batch_size=512, \t\t\t\t   # 批处理大小，每次更新权重时使用的样本数\n",
                "    epochs=50,  \t\t\t\t\t   # 训练周期数，整个数据集将被训练50次\n",
                "    validation_split=0.2, \t    \t   # 验证集比例，从训练数据中分割20%作为验证集\n",
                "    callbacks=[earlystop, checkpoint]  # 回调函数列表，包括早停和检查点回调函数\n",
                ")"
            ]
        },
        {
            "cell_type": "markdown",
            "metadata": {},
            "source": [
                "## 模型评估"
            ]
        },
        {
            "cell_type": "code",
            "execution_count": 25,
            "metadata": {},
            "outputs": [
                {
                    "name": "stdout",
                    "output_type": "stream",
                    "text": [
                        "1385/1385 [==============================] - 73s 53ms/step\n",
                        "1385/1385 [==============================] - 77s 55ms/step - loss: 0.2275 - accuracy: 0.7341\n",
                        "              precision    recall  f1-score   support\n",
                        "\n",
                        "           0       0.78      0.84      0.80    168963\n",
                        "           1       0.57      0.50      0.53    120760\n",
                        "           2       0.61      0.60      0.60    162778\n",
                        "           3       0.64      0.55      0.60    336022\n",
                        "           4       0.82      0.88      0.85    628883\n",
                        "\n",
                        "    accuracy                           0.73   1417406\n",
                        "   macro avg       0.68      0.67      0.68   1417406\n",
                        "weighted avg       0.73      0.73      0.73   1417406\n",
                        "\n"
                    ]
                }
            ],
            "source": [
                "# 使用训练好的模型预测测试集\n",
                "y_test = yelp_review_model.predict(\n",
                "    [x_test],\n",
                "    batch_size=1024,\n",
                "    verbose=1\n",
                ")\n",
                "\n",
                "# 评估模型在测试集上的表现\n",
                "yelp_review_model.evaluate(\n",
                "    x_test,\n",
                "    test[class_names].values,\n",
                "    verbose=1,\n",
                "    batch_size=1024\n",
                ")\n",
                "\n",
                "NN_report = metrics.classification_report(\n",
                "    np.argmax(test[class_names].values, axis=1),\n",
                "    np.argmax(y_test, axis=1)\n",
                ")\n",
                "\n",
                "print(NN_report)\n",
                "\n",
                "yelp_review_model.save('../models/yelp_review_model.h5')"
            ]
        },
        {
            "cell_type": "markdown",
            "metadata": {},
            "source": [
                "## 第三部分：基于Transformer架构的Bert神经网络模型的模型微调"
            ]
        },
        {
            "cell_type": "code",
            "execution_count": 2,
            "id": "8e2b86eb-9be5-49fd-90ff-54a2b0eee692",
            "metadata": {},
            "outputs": [],
            "source": [
                "import pyarrow.parquet as pq\n",
                "import seaborn as sns\n",
                "import torch\n",
                "import torch.nn.functional as F\n",
                "from torch.utils.data import TensorDataset, DataLoader, RandomSampler, SequentialSampler\n",
                "from transformers import DistilBertForSequenceClassification, DistilBertTokenizerFast \n",
                "from sklearn.model_selection import train_test_split\n",
                "from sklearn.metrics import accuracy_score\n",
                "from tqdm import tqdm, trange"
            ]
        },
        {
            "cell_type": "code",
            "execution_count": null,
            "metadata": {},
            "outputs": [],
            "source": [
                "# 计算训练集大小，取整个数据集的70%\n",
                "train_size = int(len(restaurant_reviews) * 0.7)\n",
                "\n",
                "# 将前70%的数据分配给训练集\n",
                "bert_train = restaurant_reviews[:train_size]\n",
                "\n",
                "# 将剩余的30%的数据分配给测试集\n",
                "bert_test = restaurant_reviews[train_size:]\n",
                "\n",
                "print(f\"训练数据集维度： {train.shape}\")\n",
                "print(f\"测试数据集维度： {test.shape}\")"
            ]
        },
        {
            "cell_type": "code",
            "execution_count": null,
            "id": "b0eb45b3-9457-47fd-88d6-ecfdd0f4c7d4",
            "metadata": {},
            "outputs": [],
            "source": [
                "# 根据条件初始化DistilBERT分词器\n",
                "tokenizer = DistilBertTokenizerFast.from_pretrained(\n",
                "    '../models/distilbert-base-uncased',\t  # 使用不区分大小写的DistilBERT基模型\n",
                "    do_lower_case=True)                     # 输入将被转为小写\n",
                "\n",
                "\n",
                "text_train = train.text.values\n",
                "labels_train = train.stars.values\n",
                "text_test = test.text.values\n",
                "labels_test = test.stars.values\n",
                "\n",
                "# 存储令牌ID\n",
                "token_id_train = []\n",
                "token_id_test = []\n",
                "\n",
                "# 存储注意力遮罩\n",
                "attention_masks_train = []\n",
                "attention_masks_test = []"
            ]
        },
        {
            "cell_type": "code",
            "execution_count": null,
            "metadata": {},
            "outputs": [
                {
                    "name": "stderr",
                    "output_type": "stream",
                    "text": [
                        "100%|██████████| 3307278/3307278 [50:01<00:00, 1002.39it/s]\n"
                    ]
                }
            ],
            "source": [
                "# 对训练集每个样本文本进行编码处理\n",
                "for sample in tqdm(text_train):\n",
                "    encoding_dict = Bert_preprocess(sample, tokenizer)\n",
                "    token_id_train.append(encoding_dict['input_ids'])\n",
                "    attention_masks_train.append(encoding_dict['attention_mask'])\n",
                "    \n",
                "# 将列表中的所有令牌ID和注意力遮罩合并成一个张量\n",
                "token_id_train = torch.cat(token_id_train, dim=0)\n",
                "attention_masks_train = torch.cat(attention_masks_train, dim=0)"
            ]
        },
        {
            "cell_type": "code",
            "execution_count": null,
            "metadata": {},
            "outputs": [
                {
                    "name": "stderr",
                    "output_type": "stream",
                    "text": [
                        "100%|██████████| 1417406/1417406 [21:37<00:00, 1092.13it/s]\n"
                    ]
                }
            ],
            "source": [
                "# 对测试集每个样本文本进行编码处理\n",
                "for sample in tqdm(text_test):\n",
                "    encoding_dict = Bert_preprocess(sample, tokenizer)\n",
                "    token_id_test.append(encoding_dict['input_ids'])\n",
                "    attention_masks_test.append(encoding_dict['attention_mask'])\n",
                "    \n",
                "token_id_test = torch.cat(token_id_test, dim = 0)\n",
                "attention_masks_test = torch.cat(attention_masks_test, dim = 0)"
            ]
        },
        {
            "cell_type": "code",
            "execution_count": null,
            "metadata": {},
            "outputs": [],
            "source": [
                "# 保存令牌ID和注意力遮罩\n",
                "torch.save(token_id_train, '../data/tokenization/train_token_id.pt')\n",
                "torch.save(attention_masks_train, '../data/tokenization/train_attention_masks.pt')\n",
                "torch.save(token_id_test, '../data/tokenization/test_token_id.pt')\n",
                "torch.save(attention_masks_test, '../data/tokenization/test_attention_masks.pt')"
            ]
        },
        {
            "cell_type": "code",
            "execution_count": 8,
            "id": "308ead4d-3265-40c8-b62d-7bd302f52083",
            "metadata": {},
            "outputs": [
                {
                    "name": "stdout",
                    "output_type": "stream",
                    "text": [
                        "Training Token IDs: torch.Size([3307278, 512])\n",
                        "Training Attention Masks: torch.Size([3307278, 512])\n",
                        "Testing Token IDs: torch.Size([1417406, 512])\n",
                        "Testing Attention Masks: torch.Size([1417406, 512])\n"
                    ]
                }
            ],
            "source": [
                "# 重新加载保存的令牌ID和注意力遮罩\n",
                "token_id_train = torch.load('../data/tokenization/train_token_id.pt')\n",
                "attention_masks_train = torch.load('../data/tokenization/train_attention_masks.pt')\n",
                "token_id_test = torch.load('../data/tokenization/test_token_id.pt')\n",
                "attention_masks_test = torch.load('../data/tokenization/test_attention_masks.pt')\n",
                "\n",
                "# 检查数据是否正确加载\n",
                "print(\"Training Token IDs:\", token_id_train.shape)\n",
                "print(\"Training Attention Masks:\", attention_masks_train.shape)\n",
                "print(\"Testing Token IDs:\", token_id_test.shape)\n",
                "print(\"Testing Attention Masks:\", attention_masks_test.shape)"
            ]
        },
        {
            "cell_type": "code",
            "execution_count": 9,
            "id": "634c156e-b995-46ee-b39f-181154e62cb0",
            "metadata": {},
            "outputs": [],
            "source": [
                "# 对标签进行one-hot编码并转为浮点型\n",
                "labels_train = F.one_hot(torch.tensor(labels_train), num_classes=6).to(torch.float)\n",
                "labels_test = F.one_hot(torch.tensor(labels_test), num_classes=6).to(torch.float)"
            ]
        },
        {
            "cell_type": "code",
            "execution_count": 10,
            "id": "80a0d960-1e1e-4003-a4d1-3a42a679d62b",
            "metadata": {},
            "outputs": [
                {
                    "name": "stderr",
                    "output_type": "stream",
                    "text": [
                        "Some weights of DistilBertForSequenceClassification were not initialized from the model checkpoint at ../models and are newly initialized: ['classifier.bias', 'classifier.weight', 'pre_classifier.bias', 'pre_classifier.weight']\n",
                        "You should probably TRAIN this model on a down-stream task to be able to use it for predictions and inference.\n"
                    ]
                }
            ],
            "source": [
                "# 加载 DistilBertForSequenceClassification 模型\n",
                "yelp_review_model = DistilBertForSequenceClassification.from_pretrained(\n",
                "\t'../models',                 # 使用基础的不区分大小写的DistilBERT模型\n",
                "\tnum_labels = 6,               # 设定模型输出的标签数量为5\n",
                "\toutput_attentions = False,    # 不输出注意力权重\n",
                "\toutput_hidden_states = False, # 不输出隐藏层状态\n",
                ")"
            ]
        },
        {
            "cell_type": "code",
            "execution_count": 11,
            "id": "32a0f728-28fc-4ff1-800b-370c6a0f39df",
            "metadata": {},
            "outputs": [],
            "source": [
                "# 定义验证集比例和批处理大小\n",
                "validation_ratio = 0.2\n",
                "batch_size = 32\n",
                "\n",
                "# 划分训练集和验证集\n",
                "train_idx, val_idx = train_test_split(\n",
                "    np.arange(len(labels_train)),  # 生成一个与标签数量相同的序列\n",
                "    test_size=validation_ratio,  # 设置验证集比例为 20%\n",
                "    shuffle=True,  # 打乱数据\n",
                "    stratify=labels_train)  # 按标签进行分层采样，确保训练集和验证集中各类标签的比例一致\n",
                "\n",
                "# 创建训练集和验证集的 TensorDataset\n",
                "train_set = TensorDataset(token_id_train[train_idx],\n",
                "                          attention_masks_train[train_idx],\n",
                "                          labels_train[train_idx])\n",
                "\n",
                "validate_set = TensorDataset(token_id_train[val_idx],\n",
                "                             attention_masks_train[val_idx],\n",
                "                             labels_train[val_idx])\n",
                "\n",
                "test_set = TensorDataset(token_id_test,\n",
                "                         attention_masks_test,\n",
                "                         labels_test)\n",
                "\n",
                "\n",
                "train_dataloader = DataLoader(\n",
                "    train_set,  # 训练集\n",
                "    sampler=RandomSampler(train_set),  # 使用随机采样\n",
                "    batch_size=batch_size  # 设置批处理大小\n",
                ")\n",
                "\n",
                "validation_dataloader = DataLoader(\n",
                "    validate_set,\n",
                "    sampler=SequentialSampler(validate_set),  # 使用顺序采样\n",
                "    batch_size=batch_size  # 设置批处理大小\n",
                ")\n",
                "\n",
                "\n",
                "test_dataloader = DataLoader(\n",
                "    test_set,  # 测试集\n",
                "    sampler=RandomSampler(test_set),  # 使用随机采样\n",
                "    batch_size=batch_size  # 设置批处理大小\n",
                ")"
            ]
        },
        {
            "cell_type": "code",
            "execution_count": null,
            "id": "ba7a3854-bef9-4cc5-9180-a36f7bcd7a91",
            "metadata": {},
            "outputs": [
                {
                    "name": "stderr",
                    "output_type": "stream",
                    "text": [
                        "Epoch:  25%|██▌       | 1/4 [4:55:13<14:45:39, 17713.09s/it]"
                    ]
                },
                {
                    "name": "stdout",
                    "output_type": "stream",
                    "text": [
                        "\n",
                        "\t - 训练损失: 0.1879\n",
                        "\t - 验证精度: 0.7449\n"
                    ]
                }
            ],
            "source": [
                "# 配置优化器\n",
                "optimizer = torch.optim.AdamW(yelp_review_model.parameters(), \n",
                "                              lr=2e-5,\n",
                "                              eps=1e-08)\n",
                "\n",
                "# 在 GPU 上运行\n",
                "device = torch.device('cuda' if torch.cuda.is_available() else 'cpu')\n",
                "yelp_review_model = yelp_review_model.to(device)\n",
                "\n",
                "# 根据论文，推荐的训练轮数：2, 3, 4\n",
                "epochs = 4\n"
            ]
        },
        {
            "cell_type": "code",
            "execution_count": null,
            "metadata": {},
            "outputs": [],
            "source": [
                "for _ in trange(epochs, desc='Epoch'):\n",
                "\n",
                "    # ========== 训练阶段 ==========\n",
                "\n",
                "    # 将模型设置为训练模式\n",
                "    yelp_review_model.train()\n",
                "\n",
                "    # 追踪变量\n",
                "    train_loss = 0\n",
                "    nb_train_examples, nb_train_steps = 0, 0\n",
                "\n",
                "    for step, batch in enumerate(train_dataloader):\n",
                "        batch = tuple(t.to(device) for t in batch)\n",
                "        b_input_ids, b_input_mask, b_labels = batch\n",
                "        optimizer.zero_grad()\n",
                "\n",
                "        # 前向传播\n",
                "        outputs = yelp_review_model(b_input_ids,\n",
                "                                    attention_mask=b_input_mask,\n",
                "                                    labels=b_labels)\n",
                "        loss = outputs['loss']\n",
                "\n",
                "        # 反向传播\n",
                "        loss.backward()\n",
                "        torch.nn.utils.clip_grad_norm_(yelp_review_model.parameters(), 1.0)\n",
                "        optimizer.step()\n",
                "\n",
                "        # 更新追踪变量\n",
                "        train_loss += loss.item()\n",
                "        nb_train_examples += b_input_ids.size(0)\n",
                "        nb_train_steps += 1\n",
                "\n",
                "    # ========== 验证阶段 ==========\n",
                "\n",
                "    # 将模型设置为评估模式\n",
                "    yelp_review_model.eval()\n",
                "\n",
                "    # 追踪变量\n",
                "    val_accuracy = []\n",
                "    eval_loss = []\n",
                "\n",
                "    for batch in validation_dataloader:\n",
                "        batch = tuple(t.to(device) for t in batch)\n",
                "        b_input_ids, b_input_mask, b_labels = batch\n",
                "\n",
                "        with torch.no_grad():\n",
                "            # 前向传播\n",
                "            outputs = yelp_review_model(b_input_ids,\n",
                "                                        attention_mask=b_input_mask,\n",
                "                                        labels=b_labels)\n",
                "        loss = outputs['loss']\n",
                "        logits = outputs['logits']\n",
                "\n",
                "        eval_loss.append(loss.item())\n",
                "        logits = logits.detach().cpu().numpy()\n",
                "        label_ids = b_labels.to('cpu').numpy()\n",
                "\n",
                "        # 计算验证指标\n",
                "        batch_accuracy = Bert_compute_batch_accuracy(logits, label_ids)\n",
                "        val_accuracy.append(batch_accuracy)\n",
                "\n",
                "    print('\\n\\t - 训练损失: {:.4f}'.format(train_loss / nb_train_steps))\n",
                "    print('\\t - 验证精度: {:.4f}'.format(sum(val_accuracy) / len(val_accuracy)))"
            ]
        },
        {
            "cell_type": "markdown",
            "id": "004c7afb",
            "metadata": {},
            "source": [
                "| 模型编号 | 模型类型   | 样本数   | 令牌数 | 迭代次数 | 学习率   | 优化器衰减参数 | 训练损失 | 验证准率 |\n",
                "|---------|-----------|---------|------|--------|--------|--------------|--------|----------|\n",
                "| 模型 1  | 基本       | 50,000  | 256  | 3      | 5e-5   | 1e-08         | 0.2157 | 0.6926   |\n",
                "| 模型 2  | 基本       | 100,000 | 256  | 3      | 5e-5   | 1e-08         | 0.2251 | 0.6970   |\n",
                "| 模型 3  | 基本       | 100,000 | 256  | 2      | 2e-5   | 1e-08         | 0.2296 | 0.7033   |\n",
                "| 模型 4  | DistilBERT | 50,000  | 256  | 3      | 2e-5   | 1e-08         | 0.1198 | 0.6770   |\n",
                "| 模型 5  | DistilBERT | 100,000 | 256  | 3      | 2e-5   | 1e-08         | 0.1949 | 0.6957   |\n",
                "| 模型 6  | DistilBERT | 100,000 | 512  | 3      | 2e-5   | 1e-08         | 0.1936 | 0.7076   |\n",
                "| 模型 7  | DistilBERT | 200,000 | 512  | 4      | 2e-5   | 1e-08         | 0.1616 | 0.7117   |"
            ]
        },
        {
            "cell_type": "code",
            "execution_count": 16,
            "id": "5c184bd2-89d2-4b4b-afd4-0c2024e9ee57",
            "metadata": {},
            "outputs": [],
            "source": [
                "# 训练完所有轮次后保存模型参数\n",
                "torch.save(yelp_review_model.state_dict(), '../models/yelp_review_model.pth')\n",
                "\n",
                "# 保存整个模型\n",
                "torch.save(yelp_review_model, '../models/yelp_review_model_full.pth')"
            ]
        },
        {
            "cell_type": "code",
            "execution_count": 32,
            "id": "e95377c4",
            "metadata": {},
            "outputs": [
                {
                    "name": "stdout",
                    "output_type": "stream",
                    "text": [
                        "Test Loss: 0.18035578118957496\n",
                        "Test Accuracy: 0.7503428390671457\n"
                    ]
                }
            ],
            "source": [
                "yelp_review_model.eval()\n",
                "\n",
                "# 初始化用于跟踪结果的变量\n",
                "total_eval_accuracy = 0\n",
                "total_eval_loss = 0\n",
                "\n",
                "# 没有梯度更新\n",
                "with torch.no_grad():\n",
                "    for batch in test_dataloader:\n",
                "        b_input_ids, b_attention_masks, b_labels = tuple(t.to(device) for t in batch)\n",
                "\n",
                "        # 前向传播\n",
                "        outputs = yelp_review_model(b_input_ids, \n",
                "                                    attention_mask=b_attention_masks, \n",
                "                                    labels=b_labels)\n",
                "        \n",
                "        # 计算损失\n",
                "        loss = outputs['loss']\n",
                "        total_eval_loss += loss.item()\n",
                "\n",
                "        # 获得预测结果\n",
                "        logits = outputs['logits']\n",
                "        logits = logits.detach().cpu().numpy()\n",
                "        label_ids = b_labels.to('cpu').numpy()\n",
                "        \n",
                "        # 更新准确率统计\n",
                "        total_eval_accuracy += Bert_compute_batch_accuracy(logits, label_ids)\n",
                "\n",
                "# 计算整个测试集的平均损失和准确率\n",
                "avg_test_loss = total_eval_loss / len(test_dataloader)\n",
                "avg_test_accuracy = total_eval_accuracy / len(test_dataloader)\n",
                "\n",
                "print(f\"Test Loss: {avg_test_loss}\")\n",
                "print(f\"Test Accuracy: {avg_test_accuracy}\")"
            ]
        }
    ],
    "metadata": {
        "accelerator": "GPU",
        "colab": {
            "collapsed_sections": [],
            "name": "Yelp Recommendation System.ipynb",
            "provenance": [],
            "version": "0.3.2"
        },
        "kernelspec": {
            "display_name": "Python 3 (ipykernel)",
            "language": "python",
            "name": "python3"
        },
        "language_info": {
            "codemirror_mode": {
                "name": "ipython",
                "version": 3
            },
            "file_extension": ".py",
            "mimetype": "text/x-python",
            "name": "python",
            "nbconvert_exporter": "python",
            "pygments_lexer": "ipython3",
            "version": "3.9.undefined"
        }
    },
    "nbformat": 4,
    "nbformat_minor": 4
}
